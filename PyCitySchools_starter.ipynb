{
 "cells": [
  {
   "cell_type": "markdown",
   "metadata": {},
   "source": [
    "### Note\n",
    "* Instructions have been included for each segment. You do not have to follow them exactly, but they are included to help you think through the steps."
   ]
  },
  {
   "cell_type": "code",
   "execution_count": null,
   "metadata": {},
   "outputs": [],
   "source": [
    "# Dependencies and Setup\n",
    "import pandas as pd\n",
    "\n",
    "# File to Load (Remember to Change These)\n",
    "school_data_to_load = \"Resources/schools_complete.csv\"\n",
    "student_data_to_load = \"Resources/students_complete.csv\"\n",
    "\n",
    "# Read School and Student Data File and store into Pandas DataFrames\n",
    "school_data = pd.read_csv(school_data_to_load)\n",
    "student_data = pd.read_csv(student_data_to_load)\n",
    "\n",
    "# Combine the data into a single dataset.  \n",
    "school_data_complete = pd.merge(student_data, school_data, how=\"left\", on=[\"school_name\", \"school_name\"])"
   ]
  },
  {
   "cell_type": "markdown",
   "metadata": {},
   "source": [
    "## District Summary\n",
    "\n",
    "* Calculate the total number of schools\n",
    "\n",
    "* Calculate the total number of students\n",
    "\n",
    "* Calculate the total budget\n",
    "\n",
    "* Calculate the average math score \n",
    "\n",
    "* Calculate the average reading score\n",
    "\n",
    "* Calculate the percentage of students with a passing math score (70 or greater)\n",
    "\n",
    "* Calculate the percentage of students with a passing reading score (70 or greater)\n",
    "\n",
    "* Calculate the percentage of students who passed math **and** reading (% Overall Passing)\n",
    "\n",
    "* Create a dataframe to hold the above results\n",
    "\n",
    "* Optional: give the displayed data cleaner formatting"
   ]
  },
  {
   "cell_type": "code",
   "execution_count": null,
   "metadata": {},
   "outputs": [],
   "source": [
    "# Quick look in the dataset school_data\n",
    "school_data.head()"
   ]
  },
  {
   "cell_type": "code",
   "execution_count": null,
   "metadata": {},
   "outputs": [],
   "source": [
    "# Quick look in the dataset student_data\n",
    "student_data.head()"
   ]
  },
  {
   "cell_type": "code",
   "execution_count": null,
   "metadata": {},
   "outputs": [],
   "source": [
    "# Quick look in the merged dataset\n",
    "school_data_complete.head()"
   ]
  },
  {
   "cell_type": "code",
   "execution_count": null,
   "metadata": {},
   "outputs": [],
   "source": [
    "# Check the data set size\n",
    "# school_data_complete.count()"
   ]
  },
  {
   "cell_type": "code",
   "execution_count": null,
   "metadata": {},
   "outputs": [],
   "source": [
    "# Calculate the total number of schools\n",
    "total_number_schools = school_data['school_name'].count()\n",
    "total_number_schools"
   ]
  },
  {
   "cell_type": "code",
   "execution_count": null,
   "metadata": {},
   "outputs": [],
   "source": [
    "# Calculate the total number of students\n",
    "total_number_students = school_data['size'].sum()\n",
    "total_number_students"
   ]
  },
  {
   "cell_type": "code",
   "execution_count": null,
   "metadata": {},
   "outputs": [],
   "source": [
    "# Check the data frame data type\n",
    "school_data.dtypes\n",
    "\n",
    "# First set the budget column to dtypte float\n",
    "school_data['budget'] = school_data['budget'].astype(float)\n",
    "\n",
    "# Calculate the total budget\n",
    "total_budget = school_data['budget'].sum()\n",
    "\n",
    "#total_budget.map(\"${:,.2f}\".format)\n",
    "total_budget"
   ]
  },
  {
   "cell_type": "code",
   "execution_count": null,
   "metadata": {},
   "outputs": [],
   "source": [
    "# Calculate the average math score \n",
    "math_score_avg = round(school_data_complete['math_score'].mean(),2)\n",
    "math_score_avg"
   ]
  },
  {
   "cell_type": "code",
   "execution_count": null,
   "metadata": {},
   "outputs": [],
   "source": [
    "# Calculate the average reading score \n",
    "reading_score_avg = round(school_data_complete['reading_score'].mean(),2)\n",
    "reading_score_avg"
   ]
  },
  {
   "cell_type": "code",
   "execution_count": null,
   "metadata": {},
   "outputs": [],
   "source": [
    "# Calculate the percentage of students with a passing math score (70 or greater)\n",
    "math_pass = school_data_complete['math_score'] > 69\n",
    "students_passing_math_score = round(100*(school_data_complete['math_score'].loc[math_pass].count())/total_number_students,2)\n",
    "students_passing_math_score"
   ]
  },
  {
   "cell_type": "code",
   "execution_count": null,
   "metadata": {},
   "outputs": [],
   "source": [
    "# Calculate the percentage of students with a passing reading score (70 or greater)\n",
    "reading_pass = school_data_complete['reading_score'] > 69\n",
    "students_passing_reading_score = round(100*(school_data_complete['reading_score'].loc[reading_pass].count())/total_number_students,2)\n",
    "students_passing_reading_score"
   ]
  },
  {
   "cell_type": "code",
   "execution_count": null,
   "metadata": {},
   "outputs": [],
   "source": [
    "# Calculate the percentage of students who passed math and reading (% Overall Passing)\n",
    "students_passed_math_and_reading = round(100*school_data_complete['math_score'][(math_pass) & (reading_pass)].count()/total_number_students,2)\n",
    "students_passed_math_and_reading"
   ]
  },
  {
   "cell_type": "code",
   "execution_count": null,
   "metadata": {},
   "outputs": [],
   "source": [
    "# Create a dataframe to hold the above results\n",
    "district_summary = pd.DataFrame({'Total Schools': total_number_schools, \n",
    "                                 'Total Students': total_number_students,\n",
    "                                 'Total Budget': total_budget, \n",
    "                                 'Average Math Score': math_score_avg, \n",
    "                                 'Average Reading Score': reading_score_avg, \n",
    "                                 '% Passing Math': students_passing_math_score, \n",
    "                                 '% Passing Reading': students_passing_reading_score, \n",
    "                                 '% Overall Passing': students_passed_math_and_reading}, \n",
    "                                index=[0])\n",
    "district_summary"
   ]
  },
  {
   "cell_type": "markdown",
   "metadata": {},
   "source": [
    "## School Summary"
   ]
  },
  {
   "cell_type": "markdown",
   "metadata": {},
   "source": [
    "* Create an overview table that summarizes key metrics about each school, including:\n",
    "  * School Name\n",
    "  * School Type\n",
    "  * Total Students\n",
    "  * Total School Budget\n",
    "  * Per Student Budget\n",
    "  * Average Math Score\n",
    "  * Average Reading Score\n",
    "  * % Passing Math\n",
    "  * % Passing Reading\n",
    "  * % Overall Passing (The percentage of students that passed math **and** reading.)\n",
    "  \n",
    "* Create a dataframe to hold the above results"
   ]
  },
  {
   "cell_type": "code",
   "execution_count": null,
   "metadata": {},
   "outputs": [],
   "source": [
    "# Check the school name column results\n",
    "# school_data_complete['school_name'].value_counts()"
   ]
  },
  {
   "cell_type": "code",
   "execution_count": null,
   "metadata": {},
   "outputs": [],
   "source": [
    "# Group by School\n",
    "school_grouped = school_data_complete.groupby(['school_name'])\n",
    "school_grouped.head()"
   ]
  },
  {
   "cell_type": "code",
   "execution_count": null,
   "metadata": {},
   "outputs": [],
   "source": [
    "# Filtering by one of the group values\n",
    "school_grouped.get_group('Bailey High School')"
   ]
  },
  {
   "cell_type": "code",
   "execution_count": null,
   "metadata": {},
   "outputs": [],
   "source": [
    "school_grouped.describe()"
   ]
  },
  {
   "cell_type": "code",
   "execution_count": null,
   "metadata": {},
   "outputs": [],
   "source": [
    "school_grouped.count()"
   ]
  },
  {
   "cell_type": "code",
   "execution_count": null,
   "metadata": {},
   "outputs": [],
   "source": [
    "#School Name\n",
    "School_Name = school_grouped['school_name'].unique()\n",
    "School_Name"
   ]
  },
  {
   "cell_type": "code",
   "execution_count": null,
   "metadata": {},
   "outputs": [],
   "source": [
    "#School Type\n",
    "School_Type = school_grouped['type'].unique()\n",
    "School_Type"
   ]
  },
  {
   "cell_type": "code",
   "execution_count": null,
   "metadata": {},
   "outputs": [],
   "source": [
    "#Total Students\n",
    "Total_Students = school_grouped['Student ID'].count()\n",
    "Total_Students"
   ]
  },
  {
   "cell_type": "code",
   "execution_count": null,
   "metadata": {},
   "outputs": [],
   "source": [
    "#Total School Budget\n",
    "Total_School_Budget = school_grouped['budget'].mean()\n",
    "Total_School_Budget"
   ]
  },
  {
   "cell_type": "code",
   "execution_count": null,
   "metadata": {},
   "outputs": [],
   "source": [
    "# Per Student Budget\n",
    "Per_Student_Budget = Total_School_Budget / Total_Students\n",
    "Per_Student_Budget"
   ]
  },
  {
   "cell_type": "code",
   "execution_count": null,
   "metadata": {},
   "outputs": [],
   "source": [
    "# Average Math Score\n",
    "Average_Math_Score = school_grouped['math_score'].mean()\n",
    "Average_Math_Score"
   ]
  },
  {
   "cell_type": "code",
   "execution_count": null,
   "metadata": {},
   "outputs": [],
   "source": [
    "# Average Reading Score\n",
    "Average_Reading_Score = school_grouped['reading_score'].mean()\n",
    "Average_Reading_Score"
   ]
  },
  {
   "cell_type": "code",
   "execution_count": null,
   "metadata": {},
   "outputs": [],
   "source": [
    "# % Passing Math (Using simple filter)\n",
    "math_pass = school_data_complete['math_score'] > 69\n",
    "Passing_Math = round(100*school_data_complete[math_pass]['school_name'].value_counts()/Total_Students,2)\n",
    "Passing_Math"
   ]
  },
  {
   "cell_type": "code",
   "execution_count": null,
   "metadata": {},
   "outputs": [],
   "source": [
    "# % Passing Reading (Using simple filter)\n",
    "reading_pass = school_data_complete['reading_score'] > 69\n",
    "Passing_Reading = round(100*school_data_complete[reading_pass]['school_name'].value_counts()/Total_Students,2)\n",
    "Passing_Reading"
   ]
  },
  {
   "cell_type": "code",
   "execution_count": null,
   "metadata": {},
   "outputs": [],
   "source": [
    "# % Overall Passing (The percentage of students that passed math and reading.)\n",
    "Overall_Passing = round(100*school_data_complete[math_pass & reading_pass]['school_name'].value_counts()/Total_Students,2)\n",
    "Overall_Passing"
   ]
  },
  {
   "cell_type": "code",
   "execution_count": null,
   "metadata": {},
   "outputs": [],
   "source": [
    "# Create a dataframe to hold the above results\n",
    "school_summary = pd.DataFrame({'School Type': School_Type,'Total Students': Total_Students,\n",
    "                               'Total School Budget': Total_School_Budget,'Per Student Budget': Per_Student_Budget,\n",
    "                               'Average Math Score': Average_Math_Score,'Average Reading Score': Average_Reading_Score,\n",
    "                               '% Passing Math': Passing_Math,'% Passing Reading':Passing_Reading,'% Overall Passing': Overall_Passing})\n",
    "school_summary"
   ]
  },
  {
   "cell_type": "code",
   "execution_count": null,
   "metadata": {},
   "outputs": [],
   "source": [
    "# Create a markdown version of the dataframe to be exported to a report\n",
    "import tabulate\n",
    "print(school_summary.to_markdown())"
   ]
  },
  {
   "cell_type": "markdown",
   "metadata": {},
   "source": [
    "## Top Performing Schools (By % Overall Passing)"
   ]
  },
  {
   "cell_type": "markdown",
   "metadata": {},
   "source": [
    "* Sort and display the top five performing schools by % overall passing."
   ]
  },
  {
   "cell_type": "code",
   "execution_count": null,
   "metadata": {
    "scrolled": true
   },
   "outputs": [],
   "source": [
    "top_performing_schools = school_summary.sort_values('% Overall Passing',ascending=False).head(5)\n",
    "top_performing_schools"
   ]
  },
  {
   "cell_type": "code",
   "execution_count": null,
   "metadata": {},
   "outputs": [],
   "source": [
    "# Create a markdown version of the dataframe to be exported to a report\n",
    "import tabulate\n",
    "print(top_performing_schools.to_markdown())"
   ]
  },
  {
   "cell_type": "markdown",
   "metadata": {},
   "source": [
    "## Bottom Performing Schools (By % Overall Passing)"
   ]
  },
  {
   "cell_type": "markdown",
   "metadata": {},
   "source": [
    "* Sort and display the five worst-performing schools by % overall passing."
   ]
  },
  {
   "cell_type": "code",
   "execution_count": null,
   "metadata": {},
   "outputs": [],
   "source": [
    "bottom_performing_schools = school_summary.sort_values('% Overall Passing',ascending=True).head(5)\n",
    "bottom_performing_schools"
   ]
  },
  {
   "cell_type": "code",
   "execution_count": null,
   "metadata": {},
   "outputs": [],
   "source": [
    "# Create a markdown version of the dataframe to be exported to a report\n",
    "import tabulate\n",
    "print(bottom_performing_schools.to_markdown())"
   ]
  },
  {
   "cell_type": "markdown",
   "metadata": {},
   "source": [
    "## Math Scores by Grade"
   ]
  },
  {
   "cell_type": "markdown",
   "metadata": {},
   "source": [
    "* Create a table that lists the average Math Score for students of each grade level (9th, 10th, 11th, 12th) at each school.\n",
    "\n",
    "  * Create a pandas series for each grade. Hint: use a conditional statement.\n",
    "  \n",
    "  * Group each series by school\n",
    "  \n",
    "  * Combine the series into a dataframe\n",
    "  \n",
    "  * Optional: give the displayed data cleaner formatting"
   ]
  },
  {
   "cell_type": "code",
   "execution_count": null,
   "metadata": {},
   "outputs": [],
   "source": [
    "# Create a data frame from the original data frame focusing on Math\n",
    "math_df = school_data_complete[['Student ID', 'grade','school_name', 'math_score','School ID']]\n",
    "#math_df\n",
    "\n",
    "\n",
    "# Create panda dataframe for each grade from the math dataframe\n",
    "math_9th_grade = math_df.loc[math_df['grade'] == '9th']\n",
    "math_10th_grade = math_df.loc[math_df['grade'] == '10th']\n",
    "math_11th_grade = math_df.loc[math_df['grade'] == '11th']\n",
    "math_12th_grade = math_df.loc[math_df['grade'] == '12th']\n",
    "math_9th_grade\n"
   ]
  },
  {
   "cell_type": "code",
   "execution_count": null,
   "metadata": {},
   "outputs": [],
   "source": [
    "# In order to group the series by school, set the index for school\n",
    "math_9th_grade_new = math_9th_grade.set_index('school_name')\n",
    "math_10th_grade_new = math_10th_grade.set_index('school_name')\n",
    "math_11th_grade_new = math_11th_grade.set_index('school_name')\n",
    "math_12th_grade_new = math_12th_grade.set_index('school_name')\n",
    "math_9th_grade_new"
   ]
  },
  {
   "cell_type": "code",
   "execution_count": null,
   "metadata": {},
   "outputs": [],
   "source": [
    "# Create a series for each grade\n",
    "math_9th_series = pd.Series(math_9th_grade_new['math_score'])\n",
    "math_10th_series = pd.Series(math_10th_grade_new['math_score'])\n",
    "math_11th_series = pd.Series(math_11th_grade_new['math_score'])\n",
    "math_12th_series = pd.Series(math_12th_grade_new['math_score'])\n",
    "math_9th_series"
   ]
  },
  {
   "cell_type": "code",
   "execution_count": null,
   "metadata": {},
   "outputs": [],
   "source": [
    "# Create a variable to store each of the series that hold the average for each grade\n",
    "math_9th_average = math_9th_series.groupby(level=\"school_name\").mean()\n",
    "math_10th_average = math_10th_series.groupby(level=\"school_name\").mean()\n",
    "math_11th_average = math_11th_series.groupby(level=\"school_name\").mean()\n",
    "math_12th_average = math_12th_series.groupby(level=\"school_name\").mean()"
   ]
  },
  {
   "cell_type": "code",
   "execution_count": null,
   "metadata": {},
   "outputs": [],
   "source": [
    "# Create a dataframe to hold the above results\n",
    "math_average_by_grade = pd.DataFrame({'9th': math_9th_average, '10th': math_10th_average, \n",
    "                                      '11th': math_11th_average, '12th': math_12th_average})\n",
    "math_average_by_grade"
   ]
  },
  {
   "cell_type": "code",
   "execution_count": null,
   "metadata": {},
   "outputs": [],
   "source": [
    "# Create a markdown version of the dataframe to be exported to a report\n",
    "import tabulate\n",
    "print(math_average_by_grade.to_markdown())"
   ]
  },
  {
   "cell_type": "markdown",
   "metadata": {},
   "source": [
    "## Reading Score by Grade "
   ]
  },
  {
   "cell_type": "markdown",
   "metadata": {},
   "source": [
    "* Perform the same operations as above for reading scores"
   ]
  },
  {
   "cell_type": "code",
   "execution_count": null,
   "metadata": {},
   "outputs": [],
   "source": [
    "# Create a data frame from the original data frame focusing on reading\n",
    "reading_df = school_data_complete[['Student ID', 'grade','school_name', 'reading_score','School ID']]\n",
    "\n",
    "\n",
    "# Create panda dataframe for each grade from the reading dataframe\n",
    "reading_9th_grade = reading_df.loc[reading_df['grade'] == '9th']\n",
    "reading_10th_grade = reading_df.loc[reading_df['grade'] == '10th']\n",
    "reading_11th_grade = reading_df.loc[reading_df['grade'] == '11th']\n",
    "reading_12th_grade = reading_df.loc[reading_df['grade'] == '12th']\n",
    "\n",
    "\n",
    "# In order to group the series by school, set the index for school\n",
    "reading_9th_grade_new = reading_9th_grade.set_index('school_name')\n",
    "reading_10th_grade_new = reading_10th_grade.set_index('school_name')\n",
    "reading_11th_grade_new = reading_11th_grade.set_index('school_name')\n",
    "reading_12th_grade_new = reading_12th_grade.set_index('school_name')\n",
    "\n",
    "# Create a series for each grade\n",
    "reading_9th_series = pd.Series(reading_9th_grade_new['reading_score'])\n",
    "reading_10th_series = pd.Series(reading_10th_grade_new['reading_score'])\n",
    "reading_11th_series = pd.Series(reading_11th_grade_new['reading_score'])\n",
    "reading_12th_series = pd.Series(reading_12th_grade_new['reading_score'])\n",
    "\n",
    "\n",
    "# Create a variable to store each of the series that hold the average for each grade\n",
    "reading_9th_average = reading_9th_series.groupby(level=\"school_name\").mean()\n",
    "reading_10th_average = reading_10th_series.groupby(level=\"school_name\").mean()\n",
    "reading_11th_average = reading_11th_series.groupby(level=\"school_name\").mean()\n",
    "reading_12th_average = reading_12th_series.groupby(level=\"school_name\").mean()\n",
    "\n",
    "# Create a dataframe to hold the above results\n",
    "reading_average_by_grade = pd.DataFrame({'9th': reading_9th_average, '10th': reading_10th_average, \n",
    "                                      '11th': reading_11th_average, '12th': reading_12th_average})\n",
    "reading_average_by_grade"
   ]
  },
  {
   "cell_type": "code",
   "execution_count": null,
   "metadata": {},
   "outputs": [],
   "source": [
    "# Create a markdown version of the dataframe to be exported to a report\n",
    "import tabulate\n",
    "print(reading_average_by_grade.to_markdown())"
   ]
  },
  {
   "cell_type": "markdown",
   "metadata": {},
   "source": [
    "## Scores by School Spending"
   ]
  },
  {
   "cell_type": "markdown",
   "metadata": {},
   "source": [
    "* Create a table that breaks down school performances based on average Spending Ranges (Per Student). Use 4 reasonable bins to group school spending. Include in the table each of the following:\n",
    "  * Average Math Score\n",
    "  * Average Reading Score\n",
    "  * % Passing Math\n",
    "  * % Passing Reading\n",
    "  * Overall Passing Rate (Average of the above two)"
   ]
  },
  {
   "cell_type": "code",
   "execution_count": null,
   "metadata": {},
   "outputs": [],
   "source": [
    "# Begin by creating a new data frame based on the one created for the first part of this homework and select only the target columns\n",
    "scores_by_school_df = school_summary[['Per Student Budget','Average Math Score','Average Reading Score',\n",
    "                                        '% Passing Math','% Passing Reading','% Overall Passing']]\n",
    "scores_by_school_df"
   ]
  },
  {
   "cell_type": "code",
   "execution_count": null,
   "metadata": {},
   "outputs": [],
   "source": [
    "# Use the describe attribute to investigate the quantiles\n",
    "scores_by_school_df['Per Student Budget'].describe()"
   ]
  },
  {
   "cell_type": "code",
   "execution_count": null,
   "metadata": {},
   "outputs": [],
   "source": [
    "# Create 4 reasonable bins to group school spending\n",
    "bins = [577, 591, 628, 641, 655]\n",
    "\n",
    "# Create the names for the four bins\n",
    "group_names = [\"< $591\", \"$591-628\", \"$628-641\", \">$641\"]\n",
    "\n",
    "# Cut data into bins and create a new column with the data\n",
    "scores_by_school_df['Spending Ranges Per Student'] = pd.cut(scores_by_school_df['Per Student Budget'], bins, labels=group_names)\n",
    "\n",
    "\n",
    "# Create the final data frame by reorganizing the columns\n",
    "cols = ['Spending Ranges Per Student','Per Student Budget','Average Math Score','Average Reading Score',\n",
    "         '% Passing Math','% Passing Reading','% Overall Passing']\n",
    "\n",
    "scores_by_school_df = scores_by_school_df.reindex(columns= cols)\n",
    "scores_by_school_df"
   ]
  },
  {
   "cell_type": "code",
   "execution_count": null,
   "metadata": {},
   "outputs": [],
   "source": [
    "# Drop the column Per Student Budget\n",
    "scores_by_school_df = scores_by_school_df.drop(columns = 'Per Student Budget')\n",
    "\n",
    "# Finally group the data frame by the 4 bins created\n",
    "school_size_results_df = scores_by_school_df.groupby('Spending Ranges Per Student').mean()\n",
    "school_size_results_df"
   ]
  },
  {
   "cell_type": "code",
   "execution_count": null,
   "metadata": {},
   "outputs": [],
   "source": [
    "# Create a markdown version of the dataframe to be exported to a report\n",
    "import tabulate\n",
    "print(school_size_results_df.to_markdown())"
   ]
  },
  {
   "cell_type": "markdown",
   "metadata": {},
   "source": [
    "## Scores by School Size"
   ]
  },
  {
   "cell_type": "markdown",
   "metadata": {},
   "source": [
    "* Perform the same operations as above, based on school size."
   ]
  },
  {
   "cell_type": "code",
   "execution_count": null,
   "metadata": {
    "scrolled": true
   },
   "outputs": [],
   "source": [
    "# Begin by creating a new data frame based on the one created for the first part of this homework and select only the target columns\n",
    "scores_by_size_df = school_summary[['Total Students','Average Math Score',\n",
    "                                    'Average Reading Score','% Passing Math',\n",
    "                                    '% Passing Reading','% Overall Passing']]\n",
    "\n",
    "scores_by_size_df.head()"
   ]
  },
  {
   "cell_type": "code",
   "execution_count": null,
   "metadata": {},
   "outputs": [],
   "source": [
    "# Explore the range of values of the school size\n",
    "scores_by_size_df['Total Students'].describe()"
   ]
  },
  {
   "cell_type": "code",
   "execution_count": null,
   "metadata": {},
   "outputs": [],
   "source": [
    "# Create 4 reasonable bins to group school size based on the describe\n",
    "bins = [0, 1500, 2500, 3500, 5000]\n",
    "\n",
    "# Create the names for the four bins\n",
    "group_names = [\"< 1500\", \"1500-2500\", \"2500-3500\", \">3500\"]\n",
    "\n",
    "# Cut data into bins and create a new column with the data\n",
    "scores_by_size_df['School Size'] = pd.cut(scores_by_size_df['Total Students'], bins, labels=group_names)\n",
    "scores_by_size_df.head()"
   ]
  },
  {
   "cell_type": "code",
   "execution_count": null,
   "metadata": {},
   "outputs": [],
   "source": [
    "# Create the final data frame by reorganizing the columns\n",
    "cols = ['School Size','Average Math Score','Average Reading Score',\n",
    "         '% Passing Math','% Passing Reading','% Overall Passing']\n",
    "\n",
    "scores_by_size_df = scores_by_size_df.reindex(columns= cols)\n",
    "scores_by_size_df.head()"
   ]
  },
  {
   "cell_type": "code",
   "execution_count": null,
   "metadata": {},
   "outputs": [],
   "source": [
    "# Finally group the data frame by the 4 bins created\n",
    "scores_by_size_results_df = scores_by_size_df.groupby('School Size').mean()\n",
    "scores_by_size_results_df"
   ]
  },
  {
   "cell_type": "code",
   "execution_count": null,
   "metadata": {},
   "outputs": [],
   "source": [
    "# Create a markdown version of the dataframe to be exported to a report\n",
    "import tabulate\n",
    "print(scores_by_size_results_df.to_markdown())"
   ]
  },
  {
   "cell_type": "markdown",
   "metadata": {},
   "source": [
    "## Scores by School Type"
   ]
  },
  {
   "cell_type": "markdown",
   "metadata": {},
   "source": [
    "* Perform the same operations as above, based on school type"
   ]
  },
  {
   "cell_type": "code",
   "execution_count": null,
   "metadata": {},
   "outputs": [],
   "source": [
    "# Begin by creating a new data frame based on the one created for the first part of this homework and select only the target columns\n",
    "scores_by_type_df = school_summary[['School Type','Average Math Score',\n",
    "                                    'Average Reading Score','% Passing Math',\n",
    "                                    '% Passing Reading','% Overall Passing']]\n",
    "\n",
    "scores_by_type_df.head()"
   ]
  },
  {
   "cell_type": "code",
   "execution_count": null,
   "metadata": {},
   "outputs": [],
   "source": [
    "# Check the dataframe columns\n",
    "scores_by_type_df.columns"
   ]
  },
  {
   "cell_type": "code",
   "execution_count": null,
   "metadata": {},
   "outputs": [],
   "source": [
    "# List the values in the School Type column\n",
    "scores_by_type_df['School Type']"
   ]
  },
  {
   "cell_type": "code",
   "execution_count": null,
   "metadata": {},
   "outputs": [],
   "source": [
    "# Filter the row values by the school type\n",
    "scores_by_type_df['School Type'].loc[scores_by_type_df['School Type']=='District']"
   ]
  },
  {
   "cell_type": "code",
   "execution_count": null,
   "metadata": {},
   "outputs": [],
   "source": [
    "# Calculate the average for the target metrics\n",
    "district_school_results = scores_by_type_df.loc[scores_by_type_df['School Type']=='District'].mean()\n",
    "district_school_results"
   ]
  },
  {
   "cell_type": "code",
   "execution_count": null,
   "metadata": {},
   "outputs": [],
   "source": [
    "# Calculate the average for the target metrics\n",
    "charter_school_results = scores_by_type_df.loc[scores_by_type_df['School Type']=='Charter'].mean()\n",
    "charter_school_results"
   ]
  },
  {
   "cell_type": "code",
   "execution_count": null,
   "metadata": {},
   "outputs": [],
   "source": [
    "# Create the final dataframe with the results by school type\n",
    "school_type_df = pd.DataFrame({\"Charter\":charter_school_results, \"District\":district_school_results})\n",
    "school_type_df"
   ]
  },
  {
   "cell_type": "code",
   "execution_count": null,
   "metadata": {},
   "outputs": [],
   "source": [
    "# Transpose the dataframe and create a new dataframe with the results\n",
    "school_type_results_df = school_type_df.T\n",
    "school_type_results_df"
   ]
  },
  {
   "cell_type": "code",
   "execution_count": null,
   "metadata": {},
   "outputs": [],
   "source": [
    "# Reset the index\n",
    "school_type_results_df.reset_index(inplace=True)\n",
    "school_type_results_df"
   ]
  },
  {
   "cell_type": "code",
   "execution_count": null,
   "metadata": {},
   "outputs": [],
   "source": [
    "# Retrieve the columns name\n",
    "school_type_results_df.columns"
   ]
  },
  {
   "cell_type": "code",
   "execution_count": null,
   "metadata": {},
   "outputs": [],
   "source": [
    "# Rename the column\n",
    "school_type_results_df.rename(columns={'index': 'School Type'}, inplace=True)\n",
    "school_type_results_df"
   ]
  },
  {
   "cell_type": "code",
   "execution_count": null,
   "metadata": {},
   "outputs": [],
   "source": [
    "# Finally set the index to the desired column\n",
    "school_type_results_df.set_index('School Type',inplace=True)\n",
    "school_type_results_df"
   ]
  },
  {
   "cell_type": "code",
   "execution_count": null,
   "metadata": {},
   "outputs": [],
   "source": [
    "# Create a markdown version of the dataframe to be exported to a report\n",
    "import tabulate\n",
    "print(school_type_results_df.to_markdown())"
   ]
  },
  {
   "cell_type": "code",
   "execution_count": null,
   "metadata": {},
   "outputs": [],
   "source": []
  }
 ],
 "metadata": {
  "anaconda-cloud": {},
  "kernel_info": {
   "name": "python3"
  },
  "kernelspec": {
   "display_name": "Python 3",
   "language": "python",
   "name": "python3"
  },
  "language_info": {
   "codemirror_mode": {
    "name": "ipython",
    "version": 3
   },
   "file_extension": ".py",
   "mimetype": "text/x-python",
   "name": "python",
   "nbconvert_exporter": "python",
   "pygments_lexer": "ipython3",
   "version": "3.7.6"
  },
  "latex_envs": {
   "LaTeX_envs_menu_present": true,
   "autoclose": false,
   "autocomplete": true,
   "bibliofile": "biblio.bib",
   "cite_by": "apalike",
   "current_citInitial": 1,
   "eqLabelWithNumbers": true,
   "eqNumInitial": 1,
   "hotkeys": {
    "equation": "Ctrl-E",
    "itemize": "Ctrl-I"
   },
   "labels_anchors": false,
   "latex_user_defs": false,
   "report_style_numbering": false,
   "user_envs_cfg": false
  },
  "nteract": {
   "version": "0.8.4"
  }
 },
 "nbformat": 4,
 "nbformat_minor": 4
}
